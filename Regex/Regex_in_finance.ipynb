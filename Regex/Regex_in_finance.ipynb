{
 "cells": [
  {
   "cell_type": "code",
   "execution_count": 1,
   "metadata": {},
   "outputs": [],
   "source": [
    "import numpy as np\n",
    "import pandas as pd\n",
    "import re"
   ]
  },
  {
   "cell_type": "code",
   "execution_count": 2,
   "metadata": {},
   "outputs": [],
   "source": [
    "text = \"\"\"Berkeley MFE is the best financial engineering program. \n",
    "     You can study disciplines like data science, derivatives, fixed income, calculus, optimization, statistics etc. \n",
    "    The previous batch of MFE started on 03-16-2019. \n",
    "    and the class graduated on on 03-13-2020. The phone number of the office is +91-510-999-9912. Also, phone is spelt this way, not as phon.\n",
    "    The email address of the office is mfe@berkeley.edu.\n",
    "    Congrats on making it here guys.   Yayyy!\n",
    "    PS : If you would like to know, my VISA Credit card details are : 4111111111111111\"\"\"\n"
   ]
  },
  {
   "cell_type": "markdown",
   "metadata": {},
   "source": [
    "# Trying the basics"
   ]
  },
  {
   "cell_type": "markdown",
   "metadata": {},
   "source": [
    "1. Get text that starts with a capital letter and is at the beginning of the sentence"
   ]
  },
  {
   "cell_type": "code",
   "execution_count": 3,
   "metadata": {},
   "outputs": [
    {
     "data": {
      "text/plain": [
       "['Berkeley']"
      ]
     },
     "execution_count": 3,
     "metadata": {},
     "output_type": "execute_result"
    }
   ],
   "source": [
    "pattern = re.compile(r'^Berkeley')\n",
    "re.findall(pattern,text)\n",
    "#pattern = re.compile(r'\\d{3}–\\d{3}–\\d{4}')\n"
   ]
  },
  {
   "cell_type": "markdown",
   "metadata": {},
   "source": [
    "2. Get all words that have one or more capital letters"
   ]
  },
  {
   "cell_type": "code",
   "execution_count": 9,
   "metadata": {},
   "outputs": [
    {
     "data": {
      "text/plain": [
       "['Berkeley',\n",
       " 'MFE',\n",
       " 'You',\n",
       " 'The',\n",
       " 'MFE',\n",
       " 'The',\n",
       " 'Also',\n",
       " 'The',\n",
       " 'Congrats',\n",
       " 'Yayyy',\n",
       " 'PS',\n",
       " 'If',\n",
       " 'VISA',\n",
       " 'Credit']"
      ]
     },
     "execution_count": 9,
     "metadata": {},
     "output_type": "execute_result"
    }
   ],
   "source": [
    "re.findall(re.compile(r'[A-Z]\\w+'),text)  \n",
    "\n",
    "#Start with One or more capital letter chars and one or more letters after that\n",
    "#plus tells one or more small letters "
   ]
  },
  {
   "cell_type": "markdown",
   "metadata": {},
   "source": [
    "3. Using the question mark (?) operator - to match words containing one or more characters preceding the letter preceding '?'"
   ]
  },
  {
   "cell_type": "code",
   "execution_count": 6,
   "metadata": {},
   "outputs": [
    {
     "data": {
      "text/plain": [
       "['phone', 'phone', 'phon']"
      ]
     },
     "execution_count": 6,
     "metadata": {},
     "output_type": "execute_result"
    }
   ],
   "source": [
    "#Phon should be there but e can or cannot be there \n",
    "re.findall(re.compile(r'phone?'),text)"
   ]
  },
  {
   "cell_type": "markdown",
   "metadata": {},
   "source": [
    "4. Using the {}. This is used to indicate the repetition of a character. In the word 'Yayyy', we can indicate that y occurs 2 or more times."
   ]
  },
  {
   "cell_type": "code",
   "execution_count": 5,
   "metadata": {},
   "outputs": [
    {
     "data": {
      "text/plain": [
       "['Yayyy']"
      ]
     },
     "execution_count": 5,
     "metadata": {},
     "output_type": "execute_result"
    }
   ],
   "source": [
    "#How many times you want a sequence : {2,} is 2 or more times repeating \n",
    "re.findall(re.compile(r'Yay{2,}'),text)"
   ]
  },
  {
   "cell_type": "markdown",
   "metadata": {},
   "source": [
    "# Identifying Phone Numbers from a transcript : They come in a format "
   ]
  },
  {
   "cell_type": "markdown",
   "metadata": {},
   "source": [
    "1. In the standard phone number format, we first need a country code, prefixed with a +. This means that we need **\\+[0-9]+**. The escape sequence makes the first + a character and not an operator. Then we use [] to identify one or more digits. The plus sign at last indicates that one or more digits can be present.\n",
    "\n",
    "2. Then we need a sequence of XXX-XXX-XXXX. This can be done by \\d{3}-\\d{3}-\\d{4}. This indicates that we have a placeholder for digits (\\d) followed by the digits indicated within {}."
   ]
  },
  {
   "cell_type": "code",
   "execution_count": 7,
   "metadata": {},
   "outputs": [],
   "source": [
    "#first plus sign is the characyer that we want = \\+ says it is a character and not the operator \n",
    "#One or more other digits form 0-9 which can occur one or more times \n",
    "#We need 3 digits , {3} means it repeats 3 times \n",
    "\n",
    "pattern_mobile = re.compile(r'\\+[0-9]+-\\d{3}-\\d{3}-\\d{4}')"
   ]
  },
  {
   "cell_type": "code",
   "execution_count": 8,
   "metadata": {},
   "outputs": [
    {
     "data": {
      "text/plain": [
       "['+91-510-999-9912']"
      ]
     },
     "execution_count": 8,
     "metadata": {},
     "output_type": "execute_result"
    }
   ],
   "source": [
    "re.findall(pattern_mobile,text)"
   ]
  },
  {
   "cell_type": "markdown",
   "metadata": {},
   "source": [
    "# Identifying dates"
   ]
  },
  {
   "cell_type": "markdown",
   "metadata": {},
   "source": [
    "We will attempt to identify dates in format of MM-DD-YYYY.\n",
    "1. For the first part (MM), we indicate the possible combinations - 0 followed by digits from 1-9, or 1 followed by 0,1 or 2. This covers all months from 1-12. This gives us 0[1-9]|1[012].\n",
    "\n",
    "2. For the second part (DD), the possible combinations are - 0 followed by digits from 1-9, 1/2 followed by 0-9 or 3 followed by 0 or 1. This covers all dates from 01-31. This gives us 0[1-9]|[12][0-9]|3[01]\n",
    "\n",
    "3. For the last part, we cover all years from 1900 to 2099. The pattern for this is 19|20\\d\\d. \n"
   ]
  },
  {
   "cell_type": "code",
   "execution_count": 173,
   "metadata": {},
   "outputs": [
    {
     "name": "stdout",
     "output_type": "stream",
     "text": [
      "[('03', '-', '16', '-', '2019'), ('03', '-', '13', '-', '2020')]\n",
      "['03-16-2019', '03-13-2020']\n"
     ]
    }
   ],
   "source": [
    "#0[1-9]|1[012] = Starts with 0 and followed by 1-9 or we have 1 and followed by 012 \n",
    "#(\\.|–|-|/) = can have . or - \n",
    "\n",
    "pattern_date = re.compile(r'(0[1-9]|1[012])(\\.|–|-|/)(0[1-9]|[12][0-9]|3[01])(\\.|–|-|/)(19|20\\d\\d)')\n",
    "\n",
    "print(re.findall(pattern_date,text))\n",
    "print([\"\".join(x) for x in results])"
   ]
  },
  {
   "cell_type": "markdown",
   "metadata": {},
   "source": [
    "# Removing Extra Whitespace"
   ]
  },
  {
   "cell_type": "markdown",
   "metadata": {},
   "source": [
    "\\t indicates a tab so we use it to detect any extra whitespace and remove the same"
   ]
  },
  {
   "cell_type": "code",
   "execution_count": 13,
   "metadata": {},
   "outputs": [
    {
     "data": {
      "text/plain": [
       "'Berkeley MFE is the best financial engineering program. \\n You can study disciplines like data science, derivatives, fixed income, calculus, optimization, statistics etc. \\n The previous batch of MFE started on 03-16-2019. \\n and the class graduated on on 03-13-2020. The phone number of the office is +91-510-999-9912. Also, phone is spelt this way, not as phon.\\n The email address of the office is mfe@berkeley.edu.\\n Congrats on making it here guys. Yayyy!\\n PS : If you would like to know, my VISA Credit card details are : 4111111111111111'"
      ]
     },
     "execution_count": 13,
     "metadata": {},
     "output_type": "execute_result"
    }
   ],
   "source": [
    "# As it is in rectangular braces, either one should occur , either a tab or a space, and it can occur multiple times as ger gave + \n",
    "\n",
    "pattern3 = re.compile(r'[ \\t]+')\n",
    "re.sub(pattern3,\" \",text)"
   ]
  },
  {
   "cell_type": "code",
   "execution_count": 14,
   "metadata": {},
   "outputs": [
    {
     "data": {
      "text/plain": [
       "'Berkeley MFE is the best financial engineering program. You can study disciplines like data science, derivatives, fixed income, calculus, optimization, statistics etc. The previous batch of MFE started on 03-16-2019. and the class graduated on on 03-13-2020. The phone number of the office is +91-510-999-9912. Also, phone is spelt this way, not as phon. The email address of the office is mfe@berkeley.edu. Congrats on making it here guys. Yayyy! PS : If you would like to know, my VISA Credit card details are : 4111111111111111'"
      ]
     },
     "execution_count": 14,
     "metadata": {},
     "output_type": "execute_result"
    }
   ],
   "source": [
    "# As it is in rectangular braces, either one should occur , either a tab or a space, and it can occur multiple times as ger gave + \n",
    "\n",
    "pattern3 = re.compile(r'[\\s\\t]+')\n",
    "re.sub(pattern3,\" \",text)"
   ]
  },
  {
   "cell_type": "markdown",
   "metadata": {},
   "source": [
    "# Detecting Email Addresses"
   ]
  },
  {
   "cell_type": "markdown",
   "metadata": {},
   "source": [
    "We tackle this by breaking it into 3 parts : username, domain (gmail) and top-level domain (.com). [balckrock.com etc]\n",
    "\n",
    "The username can be a combination of alphabets, numbers and some special characters (like \\_) : \\[A-Z0-9._\\%+-\\] <br>\n",
    "The domain name can have alphabets, numbers, periods (.) and hyphens(-) : \\[A-Z0-9.-\\] <br>\n",
    "The top-level domain will have alphabets and will be 2 or more characters long : \\[A-Z\\]{2,} <br>\n"
   ]
  },
  {
   "cell_type": "code",
   "execution_count": 15,
   "metadata": {},
   "outputs": [
    {
     "data": {
      "text/plain": [
       "['mfe@berkeley.edu']"
      ]
     },
     "execution_count": 15,
     "metadata": {},
     "output_type": "execute_result"
    }
   ],
   "source": [
    "#username = [A-Z0-9._%+-] any of these can occur one or more times, a-Z or 0-9 etc \n",
    "#domain = thye dont have numbers = there can be 2 or more characters in that.None are usually small \n",
    "\n",
    "#Ignorecase will consider small and capital letters \n",
    "\n",
    "pattern_email = re.compile(r'[A-Z0-9._%+-]+@[A-Z0-9.-]+\\.[A-Z]{2,}',re.IGNORECASE)\n",
    "re.findall(pattern_email,text)"
   ]
  },
  {
   "cell_type": "markdown",
   "metadata": {},
   "source": [
    "# Detecting Credit Card Numbers"
   ]
  },
  {
   "cell_type": "markdown",
   "metadata": {},
   "source": [
    "This is a popular problem, however the most feasible way to do this via regex is to consider the patterns with respect to different card providers : Visa, Mastercard, AmEx. <br>\n",
    "Here we have taken the example of VISA, which starts with a 4 and then has either 16 digits (new cards) or 13 digits (older cards)\n"
   ]
  },
  {
   "cell_type": "code",
   "execution_count": 177,
   "metadata": {},
   "outputs": [
    {
     "data": {
      "text/plain": [
       "['4111111111111111']"
      ]
     },
     "execution_count": 177,
     "metadata": {},
     "output_type": "execute_result"
    }
   ],
   "source": [
    "#starts with 4, and the remaining numbers can happen 12 tims like in old cars\n",
    "#?:[0-9]{3}) =  It will search for th extra numbers from 0-9 , if they exist return with it or else return the remaining \n",
    "pattern_credit = re.compile(r'(4[0-9]{12}(?:[0-9]{3}))')\n",
    "re.findall(pattern_credit,text)"
   ]
  },
  {
   "cell_type": "markdown",
   "metadata": {},
   "source": [
    "# Easier Way to find dates"
   ]
  },
  {
   "cell_type": "code",
   "execution_count": 178,
   "metadata": {},
   "outputs": [
    {
     "name": "stdout",
     "output_type": "stream",
     "text": [
      "2019-03-16 00:00:00\n",
      "2020-03-13 00:00:00\n"
     ]
    }
   ],
   "source": [
    "#Simple library \n",
    "import datefinder\n",
    "matches = datefinder.find_dates(text)\n",
    "for date in matches:\n",
    "    print(date)"
   ]
  },
  {
   "cell_type": "code",
   "execution_count": null,
   "metadata": {},
   "outputs": [],
   "source": []
  }
 ],
 "metadata": {
  "kernelspec": {
   "display_name": "Python 3",
   "language": "python",
   "name": "python3"
  },
  "language_info": {
   "codemirror_mode": {
    "name": "ipython",
    "version": 3
   },
   "file_extension": ".py",
   "mimetype": "text/x-python",
   "name": "python",
   "nbconvert_exporter": "python",
   "pygments_lexer": "ipython3",
   "version": "3.7.6"
  }
 },
 "nbformat": 4,
 "nbformat_minor": 4
}
